{
 "cells": [
  {
   "cell_type": "markdown",
   "metadata": {},
   "source": [
    "# BÀI TẬP PYTHON CƠ BẢN"
   ]
  },
  {
   "cell_type": "markdown",
   "metadata": {},
   "source": [
    "## Đề Bài"
   ]
  },
  {
   "cell_type": "markdown",
   "metadata": {},
   "source": [
    "Viết chương trình kiểm tra xem mỗi số trong một list có là số nguyên tố hay không (cần viết hàm kiểm tra số nguyên tố riêng và lưu ý trường hợp các số 1, 2, 3)."
   ]
  },
  {
   "cell_type": "markdown",
   "metadata": {},
   "source": [
    "## Script"
   ]
  },
  {
   "cell_type": "markdown",
   "metadata": {},
   "source": [
    "### Extension Methods"
   ]
  },
  {
   "cell_type": "code",
   "execution_count": 1,
   "metadata": {},
   "outputs": [],
   "source": [
    "# Make sure input is integer\n",
    "def inpInt():\n",
    "    turn = 0\n",
    "    while True:\n",
    "        try:\n",
    "            if turn > 0:\n",
    "                print('Dữ liệu nhập vào phải là số nguyên, xin vui lòng thử lại: ', end='')\n",
    "            val = input()\n",
    "            num = int(val)\n",
    "            break\n",
    "        except:\n",
    "            turn += 1\n",
    "            continue\n",
    "    return num"
   ]
  },
  {
   "cell_type": "code",
   "execution_count": 2,
   "metadata": {},
   "outputs": [],
   "source": [
    "# Input integer large than 0\n",
    "def inpIntPlus():\n",
    "    turn = 0\n",
    "    while True:\n",
    "        if turn > 0:\n",
    "            print('Dữ liệu nhập vào phải là số nguyên dương, xin vui lòng thử lại: ', end='')\n",
    "        num = inpInt()\n",
    "        if num > 0:\n",
    "            return num\n",
    "        turn += 1"
   ]
  },
  {
   "cell_type": "code",
   "execution_count": 3,
   "metadata": {},
   "outputs": [],
   "source": [
    "# Input integer plus with caption\n",
    "def inpIntPlusWithCap(cap='Nhập: '):\n",
    "    print(cap, end='')\n",
    "    text = inpIntPlus()\n",
    "    return text"
   ]
  },
  {
   "cell_type": "markdown",
   "metadata": {},
   "source": [
    "### Contract Fields"
   ]
  },
  {
   "cell_type": "code",
   "execution_count": 4,
   "metadata": {},
   "outputs": [],
   "source": [
    "class NumPlus:\n",
    "    # Initialization\n",
    "    def __init__(self, num=1, isPrime=True):\n",
    "        self.num = num\n",
    "        self.isprime = isPrime\n",
    "\n",
    "    # Reason\n",
    "    def reason(self):\n",
    "        if self.isprime:\n",
    "            return 'là số nguyên tố'\n",
    "        else:\n",
    "            return 'không là số nguyên tố'"
   ]
  },
  {
   "cell_type": "markdown",
   "metadata": {},
   "source": [
    "### Contract Methods"
   ]
  },
  {
   "cell_type": "code",
   "execution_count": 5,
   "metadata": {},
   "outputs": [],
   "source": [
    "# Check if input is prime\n",
    "def isPrm(num=1):\n",
    "    for i in range(2, num):\n",
    "        if num % i == 0:\n",
    "            return False\n",
    "    return True"
   ]
  },
  {
   "cell_type": "code",
   "execution_count": 6,
   "metadata": {},
   "outputs": [],
   "source": [
    "# Main\n",
    "def main():\n",
    "    n = inpIntPlusWithCap('Nhập vào số phần tử: ')\n",
    "    nums = []\n",
    "    for i in range(n):\n",
    "        num = inpIntPlusWithCap(f'Nhập vào số nguyên dương thứ {i + 1}: ')\n",
    "        nums.append(NumPlus(num, isPrm(num)))\n",
    "    print('\\nKết quả')\n",
    "    for i, item in enumerate(nums):\n",
    "        print(f'{i + 1}) {item.num} {item.reason()}.')"
   ]
  },
  {
   "cell_type": "code",
   "execution_count": 7,
   "metadata": {},
   "outputs": [
    {
     "name": "stdout",
     "output_type": "stream",
     "text": [
      "Nhập vào số phần tử: a\n",
      "Dữ liệu nhập vào phải là số nguyên, xin vui lòng thử lại: 1.2\n",
      "Dữ liệu nhập vào phải là số nguyên, xin vui lòng thử lại: -3\n",
      "Dữ liệu nhập vào phải là số nguyên dương, xin vui lòng thử lại: 0\n",
      "Dữ liệu nhập vào phải là số nguyên dương, xin vui lòng thử lại: 9\n",
      "Nhập vào số nguyên dương thứ 1: b\n",
      "Dữ liệu nhập vào phải là số nguyên, xin vui lòng thử lại: 4.5\n",
      "Dữ liệu nhập vào phải là số nguyên, xin vui lòng thử lại: -6\n",
      "Dữ liệu nhập vào phải là số nguyên dương, xin vui lòng thử lại: 0\n",
      "Dữ liệu nhập vào phải là số nguyên dương, xin vui lòng thử lại: 789\n",
      "Nhập vào số nguyên dương thứ 2: 1\n",
      "Nhập vào số nguyên dương thứ 3: 2\n",
      "Nhập vào số nguyên dương thứ 4: 3\n",
      "Nhập vào số nguyên dương thứ 5: 45\n",
      "Nhập vào số nguyên dương thứ 6: 6\n",
      "Nhập vào số nguyên dương thứ 7: 63\n",
      "Nhập vào số nguyên dương thứ 8: 21\n",
      "Nhập vào số nguyên dương thứ 9: 47\n",
      "\n",
      "Kết quả\n",
      "1) 789 không là số nguyên tố.\n",
      "2) 1 là số nguyên tố.\n",
      "3) 2 là số nguyên tố.\n",
      "4) 3 là số nguyên tố.\n",
      "5) 45 không là số nguyên tố.\n",
      "6) 6 không là số nguyên tố.\n",
      "7) 63 không là số nguyên tố.\n",
      "8) 21 không là số nguyên tố.\n",
      "9) 47 là số nguyên tố.\n"
     ]
    }
   ],
   "source": [
    "# Run\n",
    "main()"
   ]
  }
 ],
 "metadata": {
  "kernelspec": {
   "display_name": "Python 3 (ipykernel)",
   "language": "python",
   "name": "python3"
  },
  "language_info": {
   "codemirror_mode": {
    "name": "ipython",
    "version": 3
   },
   "file_extension": ".py",
   "mimetype": "text/x-python",
   "name": "python",
   "nbconvert_exporter": "python",
   "pygments_lexer": "ipython3",
   "version": "3.9.13"
  },
  "vscode": {
   "interpreter": {
    "hash": "bb31923fe1462919371239128cb0b2695295dfc560fc452d1a3a2e251a4b53eb"
   }
  }
 },
 "nbformat": 4,
 "nbformat_minor": 2
}

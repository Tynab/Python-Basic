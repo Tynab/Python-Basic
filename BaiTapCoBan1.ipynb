{
 "cells": [
  {
   "cell_type": "markdown",
   "metadata": {},
   "source": [
    "# BÀI TẬP PYTHON CƠ BẢN"
   ]
  },
  {
   "cell_type": "markdown",
   "metadata": {},
   "source": [
    "## Đề Bài"
   ]
  },
  {
   "cell_type": "markdown",
   "metadata": {},
   "source": [
    "Dữ liệu giá cổ phiếu: viết vòng lặp xác định nếu giá cổ phiếu lên 7% so với ngàyhôm trước thì bán, xuống 5% so với ngày hôm trước thì mua...\n",
    "```\n",
    "gia_theo_ngay = [10.1, 9.5, 10.7, 10.8, 10.6, 10.0, 10.2, 9.5]\n",
    "```"
   ]
  },
  {
   "cell_type": "markdown",
   "metadata": {},
   "source": [
    "## Script"
   ]
  },
  {
   "cell_type": "markdown",
   "metadata": {},
   "source": [
    "### Using"
   ]
  },
  {
   "cell_type": "code",
   "execution_count": 1,
   "metadata": {},
   "outputs": [],
   "source": [
    "from enum import Enum"
   ]
  },
  {
   "cell_type": "markdown",
   "metadata": {},
   "source": [
    "### Contract Fields"
   ]
  },
  {
   "cell_type": "code",
   "execution_count": 2,
   "metadata": {},
   "outputs": [],
   "source": [
    "gia_theo_ngay = [10.1, 9.5, 10.7, 10.8, 10.6, 10.0, 10.2, 9.5]"
   ]
  },
  {
   "cell_type": "code",
   "execution_count": 3,
   "metadata": {},
   "outputs": [],
   "source": [
    "class HanhDong(Enum):\n",
    "    Mua = 1\n",
    "    Ban = 2\n",
    "    Skip = 3"
   ]
  },
  {
   "cell_type": "code",
   "execution_count": 4,
   "metadata": {},
   "outputs": [],
   "source": [
    "slctr_dic = {\n",
    "    HanhDong.Mua: \"Mua\",\n",
    "    HanhDong.Ban: \"Bán\"\n",
    "}"
   ]
  },
  {
   "cell_type": "markdown",
   "metadata": {},
   "source": [
    "### Contract Methods"
   ]
  },
  {
   "cell_type": "code",
   "execution_count": 5,
   "metadata": {},
   "outputs": [],
   "source": [
    "# Selector\n",
    "def selector(giaTruoc=0, giaSau=0):\n",
    "    diff = giaSau - giaTruoc\n",
    "    return HanhDong.Ban if diff >= giaTruoc * 7 / 100 else HanhDong.Mua if diff <= -giaTruoc * 5 / 100 else HanhDong.Skip"
   ]
  },
  {
   "cell_type": "code",
   "execution_count": 6,
   "metadata": {},
   "outputs": [],
   "source": [
    "# Main\n",
    "def main():\n",
    "    for i in range(len(gia_theo_ngay) - 1):\n",
    "        slctr = selector(gia_theo_ngay[i], gia_theo_ngay[i + 1])\n",
    "        if slctr == HanhDong.Mua or slctr == HanhDong.Ban:\n",
    "            print(f'Ngày {i + 2}: {slctr_dic.get(slctr)}')"
   ]
  },
  {
   "cell_type": "code",
   "execution_count": 7,
   "metadata": {},
   "outputs": [
    {
     "name": "stdout",
     "output_type": "stream",
     "text": [
      "Ngày 2: Mua\n",
      "Ngày 3: Bán\n",
      "Ngày 6: Mua\n",
      "Ngày 8: Mua\n"
     ]
    }
   ],
   "source": [
    "# Run\n",
    "main()"
   ]
  }
 ],
 "metadata": {
  "kernelspec": {
   "display_name": "Python 3 (ipykernel)",
   "language": "python",
   "name": "python3"
  },
  "language_info": {
   "codemirror_mode": {
    "name": "ipython",
    "version": 3
   },
   "file_extension": ".py",
   "mimetype": "text/x-python",
   "name": "python",
   "nbconvert_exporter": "python",
   "pygments_lexer": "ipython3",
   "version": "3.9.13"
  },
  "vscode": {
   "interpreter": {
    "hash": "bb31923fe1462919371239128cb0b2695295dfc560fc452d1a3a2e251a4b53eb"
   }
  }
 },
 "nbformat": 4,
 "nbformat_minor": 2
}

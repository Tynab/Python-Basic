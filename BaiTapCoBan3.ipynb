{
 "cells": [
  {
   "cell_type": "markdown",
   "id": "d46ba013",
   "metadata": {},
   "source": [
    "# BÀI TẬP PYTHON CƠ BẢN"
   ]
  },
  {
   "cell_type": "markdown",
   "id": "0255968a",
   "metadata": {},
   "source": [
    "## Đề Bài"
   ]
  },
  {
   "cell_type": "markdown",
   "id": "a49d61e2",
   "metadata": {},
   "source": [
    "Viết hàm tính tiền bảo hiểm và thuế thu nhập cá nhân cho các nhân viên:\n",
    "- Input: lương, phụ cấp\n",
    "- Output: BH, PIT"
   ]
  },
  {
   "cell_type": "markdown",
   "id": "9ff3b403",
   "metadata": {},
   "source": [
    "## Script"
   ]
  },
  {
   "cell_type": "markdown",
   "id": "39be26d4",
   "metadata": {},
   "source": [
    "### Using"
   ]
  },
  {
   "cell_type": "code",
   "execution_count": 1,
   "id": "986bd8ca",
   "metadata": {},
   "outputs": [],
   "source": [
    "import sys\n",
    "from enum import Enum\n",
    "from collections import defaultdict"
   ]
  },
  {
   "cell_type": "markdown",
   "id": "6f8bef55",
   "metadata": {},
   "source": [
    "### Extension Methods"
   ]
  },
  {
   "cell_type": "code",
   "execution_count": 2,
   "id": "b949af84",
   "metadata": {},
   "outputs": [],
   "source": [
    "# Make sure input is integer\n",
    "def inpInt():\n",
    "    turn = 0\n",
    "    while True:\n",
    "        try:\n",
    "            if turn > 0:\n",
    "                print('Dữ liệu nhập vào phải là số nguyên, xin vui lòng thử lại: ', end='')\n",
    "            val = input()\n",
    "            num = int(val)\n",
    "            break\n",
    "        except:\n",
    "            turn += 1\n",
    "            continue\n",
    "    return num"
   ]
  },
  {
   "cell_type": "code",
   "execution_count": 3,
   "id": "90f9609e",
   "metadata": {},
   "outputs": [],
   "source": [
    "# Make sure input is float\n",
    "def inpFloat():\n",
    "    turn = 0\n",
    "    while True:\n",
    "        try:\n",
    "            if turn > 0:\n",
    "                print('Dữ liệu nhập vào phải là số, xin vui lòng thử lại: ', end='')\n",
    "            val = input()\n",
    "            num = float(val)\n",
    "            break\n",
    "        except:\n",
    "            turn += 1\n",
    "            continue\n",
    "    return num"
   ]
  },
  {
   "cell_type": "code",
   "execution_count": 4,
   "id": "8e21fa1a",
   "metadata": {},
   "outputs": [],
   "source": [
    "# Input integer large than 0\n",
    "def inpIntPlus():\n",
    "    turn = 0\n",
    "    while True:\n",
    "        if turn > 0:\n",
    "            print('Dữ liệu nhập vào phải là số nguyên dương, xin vui lòng thử lại: ', end='')\n",
    "        num = inpInt()\n",
    "        if num > 0:\n",
    "            return num\n",
    "        turn += 1"
   ]
  },
  {
   "cell_type": "code",
   "execution_count": 5,
   "id": "84963168",
   "metadata": {},
   "outputs": [],
   "source": [
    "# Input float without minus\n",
    "def inpFloatWoMs():\n",
    "    turn = 0\n",
    "    while True:\n",
    "        if turn > 0:\n",
    "            print('Dữ liệu nhập vào phải là số không âm, xin vui lòng thử lại: ', end='')\n",
    "        num = inpFloat()\n",
    "        if num >= 0:\n",
    "            return num\n",
    "        turn += 1"
   ]
  },
  {
   "cell_type": "code",
   "execution_count": 6,
   "id": "e0c9f9cd",
   "metadata": {},
   "outputs": [],
   "source": [
    "# Input integer plus with caption\n",
    "def inpIntPlusWithCap(cap='Nhập: '):\n",
    "    print(cap, end='')\n",
    "    text = inpIntPlus()\n",
    "    return text"
   ]
  },
  {
   "cell_type": "code",
   "execution_count": 7,
   "id": "eb2b3a14",
   "metadata": {},
   "outputs": [],
   "source": [
    "# Input float plus with caption\n",
    "def inpFloatPlusWithCap(cap='Nhập: '):\n",
    "    print(cap, end='')\n",
    "    text = inpFloatWoMs()\n",
    "    return text"
   ]
  },
  {
   "cell_type": "markdown",
   "id": "0be194d8",
   "metadata": {},
   "source": [
    "### Contract Fields"
   ]
  },
  {
   "cell_type": "code",
   "execution_count": 8,
   "id": "d8fc110a",
   "metadata": {},
   "outputs": [],
   "source": [
    "l_cs = 1800000  # lương cơ sở 2023 (LCS)\n",
    "l_ttv = 4680000  # luong tối thiểu vùng 2023 (LTTV)"
   ]
  },
  {
   "cell_type": "code",
   "execution_count": 9,
   "id": "572a2a31",
   "metadata": {},
   "outputs": [],
   "source": [
    "pt_bhxh = 8  # phần trăm bảo hiểm xã hội (BHXH)\n",
    "pt_bhyt = 1.5  # phần trăm bảo hiểm y tế (BHYT)\n",
    "pt_bhtn = 1  # phần trăm bảo hiểm thất nghiệp (BHTN)"
   ]
  },
  {
   "cell_type": "code",
   "execution_count": 10,
   "id": "c39eedc7",
   "metadata": {},
   "outputs": [],
   "source": [
    "hs_bh_max = 20  # hệ số bảo hiểm (BH) tối đa"
   ]
  },
  {
   "cell_type": "code",
   "execution_count": 11,
   "id": "4c963d85",
   "metadata": {},
   "outputs": [],
   "source": [
    "gtt_cn = 11000000  # giảm trừ thuế thu nhập cá nhân (TTNCN)"
   ]
  },
  {
   "cell_type": "code",
   "execution_count": 12,
   "id": "3b3bfaca",
   "metadata": {},
   "outputs": [],
   "source": [
    "class BacThue(Enum):\n",
    "    Bac0 = 0\n",
    "    Bac1 = 1\n",
    "    Bac2 = 2\n",
    "    Bac3 = 3\n",
    "    Bac4 = 4\n",
    "    Bac5 = 5\n",
    "    Bac6 = 6\n",
    "    Bac7 = 7"
   ]
  },
  {
   "cell_type": "code",
   "execution_count": 13,
   "id": "fbab8f2c",
   "metadata": {},
   "outputs": [],
   "source": [
    "class NhanVien:\n",
    "    # Initialization\n",
    "    def __init__(self, lcb=0, pc=0):\n",
    "        self.luongcoban = lcb\n",
    "        self.phucap = pc\n",
    "\n",
    "    # Set lương thực nhận\n",
    "    def setltn(self, ltn=0):\n",
    "        self.luongthucnhan = ltn"
   ]
  },
  {
   "cell_type": "code",
   "execution_count": 14,
   "id": "1e277dfc",
   "metadata": {},
   "outputs": [],
   "source": [
    "i_bt_src = 0  # index bậc thuế source\n",
    "i_bt_dst = 1  # index bậc thuế destination\n",
    "i_bt_rslt = 2  # index bậc thuế result\n",
    "\n",
    "# lương từ | đến dưới | bậc thuế\n",
    "bt = [[0, 5000000, BacThue.Bac1],\n",
    "      [5000000, 10000000, BacThue.Bac2],\n",
    "      [10000000, 18000000, BacThue.Bac3],\n",
    "      [18000000, 32000000, BacThue.Bac4],\n",
    "      [32000000, 52000000, BacThue.Bac5],\n",
    "      [52000000, 80000000, BacThue.Bac6],\n",
    "      [80000000, sys.maxsize, BacThue.Bac7]]"
   ]
  },
  {
   "cell_type": "code",
   "execution_count": 15,
   "id": "1846ffc1",
   "metadata": {},
   "outputs": [],
   "source": [
    "i_bt_ts = 0  # index thuế suất của từng bậc thuế\n",
    "i_bt_hsg = 1  # index hệ số giảm của từng bậc thuế\n",
    "\n",
    "bt_dics = defaultdict(list)\n",
    "# {bậc thuế} - {thuế suất (%) | hệ số giảm}\n",
    "bt_dics[BacThue.Bac0] = [0, 0]\n",
    "bt_dics[BacThue.Bac1] = [5, 0]\n",
    "bt_dics[BacThue.Bac2] = [10, 250000]\n",
    "bt_dics[BacThue.Bac3] = [15, 750000]\n",
    "bt_dics[BacThue.Bac4] = [20, 1650000]\n",
    "bt_dics[BacThue.Bac5] = [25, 3250000]\n",
    "bt_dics[BacThue.Bac6] = [30, 5850000]\n",
    "bt_dics[BacThue.Bac7] = [35, 9850000]"
   ]
  },
  {
   "cell_type": "markdown",
   "id": "b334bd25",
   "metadata": {},
   "source": [
    "### Contract Methods"
   ]
  },
  {
   "cell_type": "code",
   "execution_count": 16,
   "id": "4dde43a7",
   "metadata": {},
   "outputs": [],
   "source": [
    "# Bảo hiểm xã hội calculate\n",
    "bhxhCalc = lambda lcb=0: min(lcb, l_cs * hs_bh_max) * pt_bhxh / 100  # mức lương đóng BHXH tối đa bằng 20 lần mức LCS"
   ]
  },
  {
   "cell_type": "code",
   "execution_count": 17,
   "id": "1487788e",
   "metadata": {},
   "outputs": [],
   "source": [
    "# Bảo hiểm y tế calculate\n",
    "bhytCalc = lambda lcb=0: min(lcb, l_cs * hs_bh_max) * pt_bhyt / 100 # mức lương đóng BHYT tối đa bằng 20 lần mức LCS"
   ]
  },
  {
   "cell_type": "code",
   "execution_count": 18,
   "id": "04b5bafc",
   "metadata": {},
   "outputs": [],
   "source": [
    "# Bảo hiểm thất nghiệp calculate\n",
    "bhtnCalc = lambda lcb=0: min(lcb, l_ttv * hs_bh_max) * pt_bhtn / 100  # mức lương đóng BHTN tối đa bằng 20 lần mức LTTV"
   ]
  },
  {
   "cell_type": "code",
   "execution_count": 19,
   "id": "6731e6b5",
   "metadata": {},
   "outputs": [],
   "source": [
    "# Bảo hiểm calculate\n",
    "bhCalc = lambda lcb=0: bhxhCalc(lcb) + bhytCalc(lcb) + bhtnCalc(lcb)  # gói đóng BH gồm có BHXH, BHYT & BHTN"
   ]
  },
  {
   "cell_type": "code",
   "execution_count": 20,
   "id": "a122110e",
   "metadata": {},
   "outputs": [],
   "source": [
    "# Lương NET calculate\n",
    "lNetCalc = lambda lcb=0: lcb - bhCalc(lcb)  # lương NET là lương cơ bản (LCB) sau khi đóng BH"
   ]
  },
  {
   "cell_type": "code",
   "execution_count": 21,
   "id": "4eccb20a",
   "metadata": {},
   "outputs": [],
   "source": [
    "# Lương thực tế calculate\n",
    "lttCalc = lambda lcb=0, pc=0: lNetCalc(lcb) + pc  # lương thực tế là lương NET được tính thêm các khoản phụ cấp"
   ]
  },
  {
   "cell_type": "code",
   "execution_count": 22,
   "id": "068c3f2d",
   "metadata": {},
   "outputs": [],
   "source": [
    "# Bậc thuế scan\n",
    "def btScan(ltt=0):\n",
    "    if ltt > gtt_cn:\n",
    "        tntt = ltt - gtt_cn  # thu nhập tính thuế (TNTT) là số dư của lương thực tế (LTT) so với mức giảm trừ TTNCN\n",
    "        for i in range(len(bt)):\n",
    "            bacThue = bt[i]\n",
    "            if bacThue[i_bt_src] <= tntt < bacThue[i_bt_dst]:\n",
    "                return bacThue[i_bt_rslt]\n",
    "    else:\n",
    "        return BacThue.Bac0"
   ]
  },
  {
   "cell_type": "code",
   "execution_count": 23,
   "id": "05411347",
   "metadata": {},
   "outputs": [],
   "source": [
    "# Thuế thu nhập cá nhân calculate\n",
    "def ttncnCalc(ltt=0):\n",
    "    btDic = bt_dics[btScan(ltt)]\n",
    "    return (ltt - gtt_cn) * btDic[i_bt_ts] / 100 - btDic[i_bt_hsg]  # TTNCN chỉ đánh trên (TNTT)"
   ]
  },
  {
   "cell_type": "code",
   "execution_count": 24,
   "id": "c11f2e92",
   "metadata": {},
   "outputs": [],
   "source": [
    "# Lương thực nhận calculate\n",
    "ltnCalc = lambda ltt=0: ltt - ttncnCalc(ltt)  # lương sau thuế (LST) bằng lương thực nhận (LTN)"
   ]
  },
  {
   "cell_type": "code",
   "execution_count": 30,
   "id": "84795704",
   "metadata": {},
   "outputs": [],
   "source": [
    "# Main\n",
    "def main():\n",
    "    n = inpIntPlusWithCap('Nhập số lượng nhân viên: ')\n",
    "    nhanViens = []\n",
    "    for i in range(n):\n",
    "        lcb = inpFloatPlusWithCap(f'Nhập lương cơ bản cho nhân viên {i + 1}: ')\n",
    "        pc = inpFloatPlusWithCap(f'Nhập phụ cấp cho nhân viên {i + 1}: ')\n",
    "        nhanVien = NhanVien(lcb, pc)\n",
    "        nhanViens.append(nhanVien)\n",
    "        nhanVien.setltn(ltnCalc(lttCalc(lcb, pc)))\n",
    "    print('\\nKết quả')\n",
    "    for i in range(len(nhanViens)):\n",
    "        print(f'Lương thực nhận của nhân viên {i + 1} là: {\"{:,}\".format(nhanViens[i].luongthucnhan)}')"
   ]
  },
  {
   "cell_type": "code",
   "execution_count": 33,
   "id": "04d93da0",
   "metadata": {},
   "outputs": [
    {
     "name": "stdout",
     "output_type": "stream",
     "text": [
      "Nhập số lượng nhân viên: a\n",
      "Dữ liệu nhập vào phải là số nguyên, xin vui lòng thử lại: 1.2\n",
      "Dữ liệu nhập vào phải là số nguyên, xin vui lòng thử lại: -3\n",
      "Dữ liệu nhập vào phải là số nguyên dương, xin vui lòng thử lại: 0\n",
      "Dữ liệu nhập vào phải là số nguyên dương, xin vui lòng thử lại: 4\n",
      "Nhập lương cơ bản cho nhân viên 1: b\n",
      "Dữ liệu nhập vào phải là số, xin vui lòng thử lại: -5\n",
      "Dữ liệu nhập vào phải là số không âm, xin vui lòng thử lại: 0\n",
      "Nhập phụ cấp cho nhân viên 1: c\n",
      "Dữ liệu nhập vào phải là số, xin vui lòng thử lại: -6\n",
      "Dữ liệu nhập vào phải là số không âm, xin vui lòng thử lại: 44444444.4\n",
      "Nhập lương cơ bản cho nhân viên 2: 88888888\n",
      "Nhập phụ cấp cho nhân viên 2: 0\n",
      "Nhập lương cơ bản cho nhân viên 3: 5000000\n",
      "Nhập phụ cấp cho nhân viên 3: 17000000\n",
      "Nhập lương cơ bản cho nhân viên 4: 20000000\n",
      "Nhập phụ cấp cho nhân viên 4: 2000000\n",
      "\n",
      "Kết quả\n",
      "Lương thực nhận của nhân viên 1 là: 39,333,333.3\n",
      "Lương thực nhận của nhân viên 2 là: 68,355,999.384\n",
      "Lương thực nhận của nhân viên 3 là: 20,653,750.0\n",
      "Lương thực nhận của nhân viên 4 là: 19,260,000.0\n"
     ]
    }
   ],
   "source": [
    "# Run\n",
    "main()"
   ]
  }
 ],
 "metadata": {
  "kernelspec": {
   "display_name": "Python 3 (ipykernel)",
   "language": "python",
   "name": "python3"
  },
  "language_info": {
   "codemirror_mode": {
    "name": "ipython",
    "version": 3
   },
   "file_extension": ".py",
   "mimetype": "text/x-python",
   "name": "python",
   "nbconvert_exporter": "python",
   "pygments_lexer": "ipython3",
   "version": "3.9.13"
  },
  "vscode": {
   "interpreter": {
    "hash": "bb31923fe1462919371239128cb0b2695295dfc560fc452d1a3a2e251a4b53eb"
   }
  }
 },
 "nbformat": 4,
 "nbformat_minor": 5
}

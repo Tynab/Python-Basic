{
 "cells": [
  {
   "cell_type": "markdown",
   "metadata": {},
   "source": [
    "# BÀI TẬP PYTHON CƠ BẢN"
   ]
  },
  {
   "cell_type": "markdown",
   "metadata": {},
   "source": [
    "## Đề Bài"
   ]
  },
  {
   "cell_type": "markdown",
   "metadata": {},
   "source": [
    "Viết chương trình kiểm tra xem mỗi số trong một list có là số nguyên tố hay không (cần viết hàm kiểm tra số nguyên tố riêng và lưu ý trường hợp các số 1, 2, 3)."
   ]
  },
  {
   "cell_type": "markdown",
   "metadata": {},
   "source": [
    "## Script"
   ]
  },
  {
   "cell_type": "markdown",
   "metadata": {},
   "source": [
    "### Extension Methods"
   ]
  },
  {
   "cell_type": "code",
   "execution_count": 7,
   "metadata": {},
   "outputs": [],
   "source": [
    "# Ensure that the input is always an integer\n",
    "def get_input_int(cap='Nhập số nguyên: '):\n",
    "    while True:\n",
    "        try:\n",
    "            return int(input(cap))\n",
    "        except:\n",
    "            print('Dữ liệu nhập vào phải là số nguyên, xin vui lòng thử lại...')"
   ]
  },
  {
   "cell_type": "code",
   "execution_count": 8,
   "metadata": {},
   "outputs": [],
   "source": [
    "# Ensure that the input is always a positive integer\n",
    "def get_positive_integer(cap='Nhập số nguyên dương: '):\n",
    "    while True:\n",
    "        num = get_input_int(cap)\n",
    "        if num > 0:\n",
    "            return num\n",
    "        print('Dữ liệu nhập vào phải là số nguyên dương, xin vui lòng thử lại...')"
   ]
  },
  {
   "cell_type": "markdown",
   "metadata": {},
   "source": [
    "### Contract Fields"
   ]
  },
  {
   "cell_type": "code",
   "execution_count": 9,
   "metadata": {},
   "outputs": [],
   "source": [
    "class PositiveInt:\n",
    "    # Initialization\n",
    "    def __init__(self, num=1, isPrime=True):\n",
    "        self.num = num\n",
    "        self.isPrime = isPrime"
   ]
  },
  {
   "cell_type": "markdown",
   "metadata": {},
   "source": [
    "### Contract Methods"
   ]
  },
  {
   "cell_type": "code",
   "execution_count": 10,
   "metadata": {},
   "outputs": [],
   "source": [
    "# Check if the input is a prime integer\n",
    "def is_prime(num=1):\n",
    "    for i in range(2, num):\n",
    "        if num % i == 0:\n",
    "            return False\n",
    "    return True"
   ]
  },
  {
   "cell_type": "code",
   "execution_count": 11,
   "metadata": {},
   "outputs": [],
   "source": [
    "# Main\n",
    "def main():\n",
    "    n = get_positive_integer('Nhập vào số phần tử: ')\n",
    "    nums = []\n",
    "    # initialize each element in the range\n",
    "    for i in range(n):\n",
    "        num = get_positive_integer(f'Nhập vào số nguyên dương thứ {i + 1}: ')\n",
    "        nums.append(PositiveInt(num, is_prime(num)))\n",
    "    print('\\nKết quả')\n",
    "    # check for prime numbers for each element in the range\n",
    "    for i, item in enumerate(nums):\n",
    "        conclusion = item.isPrime and 'là số nguyên tố' or 'không là số nguyên tố'\n",
    "        print(f'{i + 1}) {item.num} {conclusion}.')"
   ]
  },
  {
   "cell_type": "code",
   "execution_count": 12,
   "metadata": {},
   "outputs": [
    {
     "name": "stdout",
     "output_type": "stream",
     "text": [
      "Nhập vào số phần tử: a\n",
      "Dữ liệu nhập vào phải là số nguyên, xin vui lòng thử lại...\n",
      "Nhập vào số phần tử: 1.2\n",
      "Dữ liệu nhập vào phải là số nguyên, xin vui lòng thử lại...\n",
      "Nhập vào số phần tử: -3\n",
      "Dữ liệu nhập vào phải là số nguyên dương, xin vui lòng thử lại...\n",
      "Nhập vào số phần tử: 0\n",
      "Dữ liệu nhập vào phải là số nguyên dương, xin vui lòng thử lại...\n",
      "Nhập vào số phần tử: 9\n",
      "Nhập vào số nguyên dương thứ 1: 1\n",
      "Nhập vào số nguyên dương thứ 2: 2\n",
      "Nhập vào số nguyên dương thứ 3: 3\n",
      "Nhập vào số nguyên dương thứ 4: 4\n",
      "Nhập vào số nguyên dương thứ 5: 56\n",
      "Nhập vào số nguyên dương thứ 6: 789\n",
      "Nhập vào số nguyên dương thứ 7: 63\n",
      "Nhập vào số nguyên dương thứ 8: 21\n",
      "Nhập vào số nguyên dương thứ 9: 47\n",
      "\n",
      "Kết quả\n",
      "1) 1 là số nguyên tố.\n",
      "2) 2 là số nguyên tố.\n",
      "3) 3 là số nguyên tố.\n",
      "4) 4 không là số nguyên tố.\n",
      "5) 56 không là số nguyên tố.\n",
      "6) 789 không là số nguyên tố.\n",
      "7) 63 không là số nguyên tố.\n",
      "8) 21 không là số nguyên tố.\n",
      "9) 47 là số nguyên tố.\n"
     ]
    }
   ],
   "source": [
    "# Run\n",
    "main()"
   ]
  }
 ],
 "metadata": {
  "kernelspec": {
   "display_name": "Python 3 (ipykernel)",
   "language": "python",
   "name": "python3"
  },
  "language_info": {
   "codemirror_mode": {
    "name": "ipython",
    "version": 3
   },
   "file_extension": ".py",
   "mimetype": "text/x-python",
   "name": "python",
   "nbconvert_exporter": "python",
   "pygments_lexer": "ipython3",
   "version": "3.9.13"
  },
  "vscode": {
   "interpreter": {
    "hash": "bb31923fe1462919371239128cb0b2695295dfc560fc452d1a3a2e251a4b53eb"
   }
  }
 },
 "nbformat": 4,
 "nbformat_minor": 2
}

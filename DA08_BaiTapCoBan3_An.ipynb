{
 "cells": [
  {
   "cell_type": "markdown",
   "id": "d46ba013",
   "metadata": {},
   "source": [
    "# BÀI TẬP PYTHON CƠ BẢN"
   ]
  },
  {
   "cell_type": "markdown",
   "id": "0255968a",
   "metadata": {},
   "source": [
    "## Đề Bài"
   ]
  },
  {
   "cell_type": "markdown",
   "id": "a49d61e2",
   "metadata": {},
   "source": [
    "Viết hàm tính tiền bảo hiểm và thuế thu nhập cá nhân cho các nhân viên:\n",
    "- Input: lương, phụ cấp\n",
    "- Output: BH, PIT"
   ]
  },
  {
   "cell_type": "markdown",
   "id": "9ff3b403",
   "metadata": {},
   "source": [
    "## Script"
   ]
  },
  {
   "cell_type": "markdown",
   "id": "39be26d4",
   "metadata": {},
   "source": [
    "### Using"
   ]
  },
  {
   "cell_type": "code",
   "execution_count": 1,
   "id": "986bd8ca",
   "metadata": {},
   "outputs": [],
   "source": [
    "import sys\n",
    "from enum import Enum\n",
    "from collections import defaultdict"
   ]
  },
  {
   "cell_type": "markdown",
   "id": "6f8bef55",
   "metadata": {},
   "source": [
    "### Utilities"
   ]
  },
  {
   "cell_type": "code",
   "execution_count": 2,
   "id": "b949af84",
   "metadata": {},
   "outputs": [],
   "source": [
    "# Ensure that the input is always an integer\n",
    "def get_input_int(cap='Nhập số nguyên: '):\n",
    "    while True:\n",
    "        try:\n",
    "            return int(input(cap))\n",
    "        except:\n",
    "            print('Dữ liệu nhập vào phải là số nguyên, xin vui lòng thử lại...')"
   ]
  },
  {
   "cell_type": "code",
   "execution_count": 3,
   "id": "90f9609e",
   "metadata": {},
   "outputs": [],
   "source": [
    "# Ensure that the input is always an number\n",
    "def get_input_num(cap='Nhập số: '):\n",
    "    while True:\n",
    "        try:\n",
    "            return float(input(cap))\n",
    "        except:\n",
    "            print('Dữ liệu nhập vào phải là số, xin vui lòng thử lại...')"
   ]
  },
  {
   "cell_type": "code",
   "execution_count": 4,
   "id": "8e21fa1a",
   "metadata": {},
   "outputs": [],
   "source": [
    "# Ensure that the input is always a positive integer\n",
    "def get_positive_integer(cap='Nhập số nguyên dương: '):\n",
    "    while True:\n",
    "        num = get_input_int(cap)\n",
    "        if num > 0:\n",
    "            return num\n",
    "        print('Dữ liệu nhập vào phải là số nguyên dương, xin vui lòng thử lại...')"
   ]
  },
  {
   "cell_type": "code",
   "execution_count": 5,
   "id": "84963168",
   "metadata": {},
   "outputs": [],
   "source": [
    "# Ensure that the input is always a non-negative number\n",
    "def get_non_negative_num(cap='Nhập số không âm: '):\n",
    "    while True:\n",
    "        num = get_input_num(cap)\n",
    "        if num >= 0:\n",
    "            return num\n",
    "        print('Dữ liệu nhập vào phải là số không âm, xin vui lòng thử lại...')"
   ]
  },
  {
   "cell_type": "markdown",
   "id": "0be194d8",
   "metadata": {},
   "source": [
    "### Fields"
   ]
  },
  {
   "cell_type": "code",
   "execution_count": 6,
   "id": "d8fc110a",
   "metadata": {},
   "outputs": [],
   "source": [
    "L_CS = 1800000  # lương cơ sở 2023 (LCS)\n",
    "L_TTV = 4680000  # luong tối thiểu vùng 2023 (LTTV)"
   ]
  },
  {
   "cell_type": "code",
   "execution_count": 7,
   "id": "572a2a31",
   "metadata": {},
   "outputs": [],
   "source": [
    "PT_BHXH = 8  # phần trăm bảo hiểm xã hội (BHXH)\n",
    "PT_BHYT = 1.5  # phần trăm bảo hiểm y tế (BHYT)\n",
    "PT_BHTN = 1  # phần trăm bảo hiểm thất nghiệp (BHTN)"
   ]
  },
  {
   "cell_type": "code",
   "execution_count": 8,
   "id": "c39eedc7",
   "metadata": {},
   "outputs": [],
   "source": [
    "HS_BH_MAX = 20  # hệ số bảo hiểm (BH) tối đa"
   ]
  },
  {
   "cell_type": "code",
   "execution_count": 9,
   "id": "4c963d85",
   "metadata": {},
   "outputs": [],
   "source": [
    "GT_TTNCN = 11000000  # giảm trừ thuế thu nhập cá nhân (TTNCN)"
   ]
  },
  {
   "cell_type": "code",
   "execution_count": 10,
   "id": "3b3bfaca",
   "metadata": {},
   "outputs": [],
   "source": [
    "class BacThue(Enum):\n",
    "    Bac0 = 0\n",
    "    Bac1 = 1\n",
    "    Bac2 = 2\n",
    "    Bac3 = 3\n",
    "    Bac4 = 4\n",
    "    Bac5 = 5\n",
    "    Bac6 = 6\n",
    "    Bac7 = 7"
   ]
  },
  {
   "cell_type": "code",
   "execution_count": 11,
   "id": "fbab8f2c",
   "metadata": {},
   "outputs": [],
   "source": [
    "class NhanVien:\n",
    "    # Initialization\n",
    "    def __init__(self, lcb=0, pc=0):\n",
    "        self.lcb = lcb\n",
    "        self.pc = pc\n",
    "\n",
    "    # Set lương thực nhận\n",
    "    def set_ltn(self, ltn=0):\n",
    "        self.ltn = ltn"
   ]
  },
  {
   "cell_type": "code",
   "execution_count": 12,
   "id": "1e277dfc",
   "metadata": {},
   "outputs": [],
   "source": [
    "IDX_BT_LOW = 0  # index bậc dưới\n",
    "IDX_BT_HIGH = 1  # index bậc trên\n",
    "IDX_BT_NAME = 2  # index bậc thuế\n",
    "\n",
    "# lương từ | đến dưới | bậc thuế\n",
    "BTS = [[0, 5000000, BacThue.Bac1],\n",
    "       [5000000, 10000000, BacThue.Bac2],\n",
    "       [10000000, 18000000, BacThue.Bac3],\n",
    "       [18000000, 32000000, BacThue.Bac4],\n",
    "       [32000000, 52000000, BacThue.Bac5],\n",
    "       [52000000, 80000000, BacThue.Bac6],\n",
    "       [80000000, sys.maxsize, BacThue.Bac7]]"
   ]
  },
  {
   "cell_type": "code",
   "execution_count": 13,
   "id": "1846ffc1",
   "metadata": {},
   "outputs": [],
   "source": [
    "IDX_TS = 0  # index thuế suất của từng bậc thuế\n",
    "IDX_HSG = 1  # index hệ số giảm của từng bậc thuế\n",
    "\n",
    "BT_DICTS = defaultdict(list)\n",
    "# {bậc thuế} - {thuế suất (%) | hệ số giảm}\n",
    "BT_DICTS[BacThue.Bac0] = [0, 0]\n",
    "BT_DICTS[BacThue.Bac1] = [5, 0]\n",
    "BT_DICTS[BacThue.Bac2] = [10, 250000]\n",
    "BT_DICTS[BacThue.Bac3] = [15, 750000]\n",
    "BT_DICTS[BacThue.Bac4] = [20, 1650000]\n",
    "BT_DICTS[BacThue.Bac5] = [25, 3250000]\n",
    "BT_DICTS[BacThue.Bac6] = [30, 5850000]\n",
    "BT_DICTS[BacThue.Bac7] = [35, 9850000]"
   ]
  },
  {
   "cell_type": "markdown",
   "id": "b334bd25",
   "metadata": {},
   "source": [
    "### Common"
   ]
  },
  {
   "cell_type": "code",
   "execution_count": 14,
   "id": "4dde43a7",
   "metadata": {},
   "outputs": [],
   "source": [
    "# Tính bảo hiểm xã hội\n",
    "calculate_bhxh = lambda lcb=0: min(lcb, L_CS * HS_BH_MAX) * PT_BHXH / 100  # mức lương đóng BHXH tối đa bằng 20 lần mức LCS"
   ]
  },
  {
   "cell_type": "code",
   "execution_count": 15,
   "id": "1487788e",
   "metadata": {},
   "outputs": [],
   "source": [
    "# Tính bảo hiểm y tế\n",
    "calculate_bhyt = lambda lcb=0: min(lcb, L_CS * HS_BH_MAX) * PT_BHYT / 100 # mức lương đóng BHYT tối đa bằng 20 lần mức LCS"
   ]
  },
  {
   "cell_type": "code",
   "execution_count": 16,
   "id": "04b5bafc",
   "metadata": {},
   "outputs": [],
   "source": [
    "# Tính bảo hiểm thất nghiệp\n",
    "calculate_bhtn = lambda lcb=0: min(lcb, L_TTV * HS_BH_MAX) * PT_BHTN / 100  # mức lương đóng BHTN tối đa bằng 20 lần mức LTTV"
   ]
  },
  {
   "cell_type": "code",
   "execution_count": 17,
   "id": "6731e6b5",
   "metadata": {},
   "outputs": [],
   "source": [
    "# Tính bảo hiểm\n",
    "calculate_bh = lambda lcb=0: calculate_bhxh(lcb) + calculate_bhyt(lcb) + calculate_bhtn(lcb)  # gói đóng BH gồm có BHXH, BHYT & BHTN"
   ]
  },
  {
   "cell_type": "code",
   "execution_count": 18,
   "id": "a122110e",
   "metadata": {},
   "outputs": [],
   "source": [
    "# Tính lương NET\n",
    "calculate_lnet = lambda lcb=0: lcb - calculate_bh(lcb)  # lương NET là lương cơ bản (LCB) sau khi đóng BH"
   ]
  },
  {
   "cell_type": "code",
   "execution_count": 19,
   "id": "4eccb20a",
   "metadata": {},
   "outputs": [],
   "source": [
    "# Tính lương thực tế\n",
    "calculate_ltt = lambda lcb=0, pc=0: calculate_lnet(lcb) + pc  # lương thực tế là lương NET được tính thêm các khoản phụ cấp"
   ]
  },
  {
   "cell_type": "code",
   "execution_count": 20,
   "id": "068c3f2d",
   "metadata": {},
   "outputs": [],
   "source": [
    "# Tra bậc thuế\n",
    "def lookup_bt(ltt=0):\n",
    "    if ltt > GT_TTNCN:\n",
    "        tntt = ltt - GT_TTNCN  # thu nhập tính thuế (TNTT) là số dư của lương thực tế (LTT) so với mức giảm trừ TTNCN\n",
    "        for i in range(len(BTS)):\n",
    "            bacThue = BTS[i]\n",
    "            if bacThue[IDX_BT_LOW] <= tntt < bacThue[IDX_BT_HIGH]:\n",
    "                return bacThue[IDX_BT_NAME]\n",
    "    else:\n",
    "        return BacThue.Bac0"
   ]
  },
  {
   "cell_type": "code",
   "execution_count": 21,
   "id": "05411347",
   "metadata": {},
   "outputs": [],
   "source": [
    "# Tính thuế thu nhập cá nhân\n",
    "def calculate_ttncn(ltt=0):\n",
    "    btDic = BT_DICTS[lookup_bt(ltt)]\n",
    "    return (ltt - GT_TTNCN) * btDic[IDX_TS] / 100 - btDic[IDX_HSG]  # TTNCN chỉ đánh trên (TNTT)"
   ]
  },
  {
   "cell_type": "code",
   "execution_count": 22,
   "id": "c11f2e92",
   "metadata": {},
   "outputs": [],
   "source": [
    "# Tính lương thực nhận\n",
    "calculate_ltn = lambda ltt=0: ltt - calculate_ttncn(ltt)  # lương sau thuế (LST) bằng lương thực nhận (LTN)"
   ]
  },
  {
   "cell_type": "code",
   "execution_count": 25,
   "id": "84795704",
   "metadata": {},
   "outputs": [],
   "source": [
    "# Main\n",
    "def main():\n",
    "    n = get_positive_integer('Nhập số lượng nhân viên: ')\n",
    "    nhanViens = []\n",
    "    # initialize each element in the range\n",
    "    for i in range(n):\n",
    "        lcb = get_non_negative_num(f'Nhập lương cơ bản cho nhân viên {i + 1}: ')\n",
    "        pc = get_non_negative_num(f'Nhập phụ cấp cho nhân viên {i + 1}: ')\n",
    "        nhanVien = NhanVien(lcb, pc)\n",
    "        nhanViens.append(nhanVien)\n",
    "        nhanVien.set_ltn(calculate_ltn(calculate_ltt(lcb, pc)))\n",
    "    # calculate salary for each element in the range\n",
    "    print('\\nKết quả')\n",
    "    for i in range(len(nhanViens)):\n",
    "        print(f'Lương thực nhận của nhân viên {i + 1} là: {\"{:,}\".format(nhanViens[i].ltn)}')"
   ]
  },
  {
   "cell_type": "code",
   "execution_count": 26,
   "id": "04d93da0",
   "metadata": {},
   "outputs": [
    {
     "name": "stdout",
     "output_type": "stream",
     "text": [
      "Nhập số lượng nhân viên: a\n",
      "Dữ liệu nhập vào phải là số nguyên, xin vui lòng thử lại...\n",
      "Nhập số lượng nhân viên: 1.2\n",
      "Dữ liệu nhập vào phải là số nguyên, xin vui lòng thử lại...\n",
      "Nhập số lượng nhân viên: -3\n",
      "Dữ liệu nhập vào phải là số nguyên dương, xin vui lòng thử lại...\n",
      "Nhập số lượng nhân viên: 0\n",
      "Dữ liệu nhập vào phải là số nguyên dương, xin vui lòng thử lại...\n",
      "Nhập số lượng nhân viên: 4\n",
      "Nhập lương cơ bản cho nhân viên 1: b\n",
      "Dữ liệu nhập vào phải là số, xin vui lòng thử lại...\n",
      "Nhập lương cơ bản cho nhân viên 1: -5\n",
      "Dữ liệu nhập vào phải là số không âm, xin vui lòng thử lại...\n",
      "Nhập lương cơ bản cho nhân viên 1: 0\n",
      "Nhập phụ cấp cho nhân viên 1: 44444444.4\n",
      "Nhập lương cơ bản cho nhân viên 2: 88888888.8\n",
      "Nhập phụ cấp cho nhân viên 2: 0\n",
      "Nhập lương cơ bản cho nhân viên 3: 5000000\n",
      "Nhập phụ cấp cho nhân viên 3: 17000000\n",
      "Nhập lương cơ bản cho nhân viên 4: 20000000\n",
      "Nhập phụ cấp cho nhân viên 4: 2000000\n",
      "\n",
      "Kết quả\n",
      "Lương thực nhận của nhân viên 1 là: 39,333,333.3\n",
      "Lương thực nhận của nhân viên 2 là: 68,355,999.9384\n",
      "Lương thực nhận của nhân viên 3 là: 20,653,750.0\n",
      "Lương thực nhận của nhân viên 4 là: 19,260,000.0\n"
     ]
    }
   ],
   "source": [
    "# Run\n",
    "main()"
   ]
  }
 ],
 "metadata": {
  "kernelspec": {
   "display_name": "Python 3 (ipykernel)",
   "language": "python",
   "name": "python3"
  },
  "language_info": {
   "codemirror_mode": {
    "name": "ipython",
    "version": 3
   },
   "file_extension": ".py",
   "mimetype": "text/x-python",
   "name": "python",
   "nbconvert_exporter": "python",
   "pygments_lexer": "ipython3",
   "version": "3.9.13"
  },
  "vscode": {
   "interpreter": {
    "hash": "bb31923fe1462919371239128cb0b2695295dfc560fc452d1a3a2e251a4b53eb"
   }
  }
 },
 "nbformat": 4,
 "nbformat_minor": 5
}
